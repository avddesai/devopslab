{
 "cells": [
  {
   "cell_type": "code",
   "execution_count": 1,
   "id": "6242eeb6",
   "metadata": {},
   "outputs": [
    {
     "name": "stdout",
     "output_type": "stream",
     "text": [
      "[1] \"Hi, Ashwini!\"\n"
     ]
    }
   ],
   "source": [
    "myString <- \"Hello, World!\"\n",
    "print ( myString)"
   ]
  },
  {
   "cell_type": "code",
   "execution_count": 2,
   "id": "8733e8d4",
   "metadata": {},
   "outputs": [
    {
     "name": "stdout",
     "output_type": "stream",
     "text": [
      "[1] \"logical\"\n"
     ]
    }
   ],
   "source": [
    "v <- TRUE  #logical data type\n",
    "print(class(v))"
   ]
  },
  {
   "cell_type": "code",
   "execution_count": 3,
   "id": "6e093315",
   "metadata": {},
   "outputs": [
    {
     "name": "stdout",
     "output_type": "stream",
     "text": [
      "[1] \"numeric\"\n"
     ]
    }
   ],
   "source": [
    "v <- 23.5  #numeric data type\n",
    "print(class(v))"
   ]
  },
  {
   "cell_type": "code",
   "execution_count": 5,
   "id": "4b091772",
   "metadata": {},
   "outputs": [
    {
     "name": "stdout",
     "output_type": "stream",
     "text": [
      "[1] \"integer\"\n"
     ]
    }
   ],
   "source": [
    "v <- 2L  #integer data type\n",
    "print(class(v)) "
   ]
  },
  {
   "cell_type": "code",
   "execution_count": 6,
   "id": "7d602a87",
   "metadata": {},
   "outputs": [
    {
     "name": "stdout",
     "output_type": "stream",
     "text": [
      "[1] \"complex\"\n"
     ]
    }
   ],
   "source": [
    "v <- 2+5i  #complex data type\n",
    "print(class(v))"
   ]
  },
  {
   "cell_type": "code",
   "execution_count": 7,
   "id": "23c98794",
   "metadata": {},
   "outputs": [
    {
     "name": "stdout",
     "output_type": "stream",
     "text": [
      "[1] \"character\"\n"
     ]
    }
   ],
   "source": [
    "v <- \"TRUE\"  #character data type\n",
    "print(class(v))"
   ]
  },
  {
   "cell_type": "code",
   "execution_count": 8,
   "id": "9bdb3ba8",
   "metadata": {},
   "outputs": [
    {
     "name": "stdout",
     "output_type": "stream",
     "text": [
      "[1] \"red\"    \"green\"  \"yellow\"\n"
     ]
    }
   ],
   "source": [
    "apple <- c('red','green',\"yellow\") #creating a vector\n",
    "print(apple) "
   ]
  },
  {
   "cell_type": "code",
   "execution_count": 9,
   "id": "3afdbdfb",
   "metadata": {},
   "outputs": [
    {
     "name": "stdout",
     "output_type": "stream",
     "text": [
      "[[1]]\n",
      "[1] 2 5 3\n",
      "\n",
      "[[2]]\n",
      "[1] 21.3\n",
      "\n",
      "[[3]]\n",
      "function (x)  .Primitive(\"sin\")\n",
      "\n"
     ]
    }
   ],
   "source": [
    "# Creating list\n",
    "list1 <- list(c(2,5,3),21.3,sin)\n",
    "\n",
    "# Printing list\n",
    "print(list1)"
   ]
  },
  {
   "cell_type": "code",
   "execution_count": 10,
   "id": "73771ef2",
   "metadata": {},
   "outputs": [
    {
     "name": "stdout",
     "output_type": "stream",
     "text": [
      ", , 1\n",
      "\n",
      "     [,1]     [,2]     [,3]    \n",
      "[1,] \"green\"  \"yellow\" \"green\" \n",
      "[2,] \"yellow\" \"green\"  \"yellow\"\n",
      "[3,] \"green\"  \"yellow\" \"green\" \n",
      "\n",
      ", , 2\n",
      "\n",
      "     [,1]     [,2]     [,3]    \n",
      "[1,] \"yellow\" \"green\"  \"yellow\"\n",
      "[2,] \"green\"  \"yellow\" \"green\" \n",
      "[3,] \"yellow\" \"green\"  \"yellow\"\n",
      "\n"
     ]
    }
   ],
   "source": [
    "# Creating an array.\n",
    "a <- array(c('green','yellow'),dim = c(3,3,2))\n",
    "print(a)"
   ]
  },
  {
   "cell_type": "code",
   "execution_count": 11,
   "id": "c844c6dd",
   "metadata": {},
   "outputs": [
    {
     "name": "stdout",
     "output_type": "stream",
     "text": [
      "[1] 10.0  8.5 10.0\n"
     ]
    }
   ],
   "source": [
    "# + operator\n",
    "v <- c( 2,5.5,6)\n",
    "t <- c(8, 3, 4)\n",
    "print(v+t)"
   ]
  },
  {
   "cell_type": "code",
   "execution_count": 12,
   "id": "8868dbda",
   "metadata": {},
   "outputs": [
    {
     "name": "stdout",
     "output_type": "stream",
     "text": [
      "[1] 2.0 2.5 2.0\n"
     ]
    }
   ],
   "source": [
    "# %% operator\n",
    "v <- c( 2,5.5,6)\n",
    "t <- c(8, 3, 4)\n",
    "print(v%%t)"
   ]
  },
  {
   "cell_type": "code",
   "execution_count": 13,
   "id": "46683501",
   "metadata": {},
   "outputs": [
    {
     "name": "stdout",
     "output_type": "stream",
     "text": [
      "[1] 0 1 1\n"
     ]
    }
   ],
   "source": [
    "# %/% operator\n",
    "v <- c( 2,5.5,6)\n",
    "t <- c(8, 3, 4)\n",
    "print(v%/%t)"
   ]
  },
  {
   "cell_type": "code",
   "execution_count": 14,
   "id": "80787880",
   "metadata": {},
   "outputs": [
    {
     "name": "stdout",
     "output_type": "stream",
     "text": [
      "[1] \"X is an Integer\"\n"
     ]
    }
   ],
   "source": [
    "#if statement\n",
    "x <- 30L\n",
    "if(is.integer(x)) {\n",
    "   print(\"X is an Integer\")\n",
    "}\n"
   ]
  },
  {
   "cell_type": "code",
   "execution_count": 15,
   "id": "adfc6472",
   "metadata": {},
   "outputs": [
    {
     "name": "stdout",
     "output_type": "stream",
     "text": [
      "[1] \"Truth is not found\"\n"
     ]
    }
   ],
   "source": [
    "#if-else statement\n",
    "x <- c(\"what\",\"is\",\"truth\")\n",
    "\n",
    "if(\"Truth\" %in% x) {\n",
    "   print(\"Truth is found\")\n",
    "} else {\n",
    "   print(\"Truth is not found\")\n",
    "}"
   ]
  },
  {
   "cell_type": "code",
   "execution_count": 16,
   "id": "bab3496e",
   "metadata": {},
   "outputs": [
    {
     "name": "stdout",
     "output_type": "stream",
     "text": [
      "[1] \"third\"\n"
     ]
    }
   ],
   "source": [
    "#switch statement\n",
    "x <- switch(\n",
    "   3,\n",
    "   \"first\",\n",
    "   \"second\",\n",
    "   \"third\",\n",
    "   \"fourth\"\n",
    ")\n",
    "print(x)"
   ]
  },
  {
   "cell_type": "code",
   "execution_count": 17,
   "id": "6706bd02",
   "metadata": {},
   "outputs": [
    {
     "name": "stdout",
     "output_type": "stream",
     "text": [
      "[1] \"Hello\" \"loop\" \n",
      "[1] \"Hello\" \"loop\" \n",
      "[1] \"Hello\" \"loop\" \n",
      "[1] \"Hello\" \"loop\" \n"
     ]
    }
   ],
   "source": [
    "#repeat loop\n",
    "v <- c(\"Hello\",\"loop\")\n",
    "cnt <- 2\n",
    "\n",
    "repeat {\n",
    "   print(v)\n",
    "   cnt <- cnt+1\n",
    "   \n",
    "   if(cnt > 5) {\n",
    "      break\n",
    "   }\n",
    "}"
   ]
  },
  {
   "cell_type": "code",
   "execution_count": 18,
   "id": "c764104f",
   "metadata": {},
   "outputs": [
    {
     "name": "stdout",
     "output_type": "stream",
     "text": [
      "[1] \"A\"\n",
      "[1] \"B\"\n",
      "[1] \"C\"\n",
      "[1] \"D\"\n"
     ]
    }
   ],
   "source": [
    "#for loop\n",
    "v <- LETTERS[1:4]\n",
    "for ( i in v) {\n",
    "   print(i)\n",
    "}"
   ]
  },
  {
   "cell_type": "code",
   "execution_count": 19,
   "id": "6253bd89",
   "metadata": {},
   "outputs": [
    {
     "name": "stdout",
     "output_type": "stream",
     "text": [
      " [1] 32 33 34 35 36 37 38 39 40 41 42 43 44\n"
     ]
    }
   ],
   "source": [
    "# Create a sequence of numbers from 32 to 44.\n",
    "print(seq(32,44))"
   ]
  },
  {
   "cell_type": "code",
   "execution_count": 21,
   "id": "45e9b5ae",
   "metadata": {},
   "outputs": [
    {
     "name": "stdout",
     "output_type": "stream",
     "text": [
      "[1] 1\n",
      "[1] 4\n",
      "[1] 9\n",
      "[1] 16\n",
      "[1] 25\n",
      "[1] 36\n"
     ]
    }
   ],
   "source": [
    "# Create a function to print squares of numbers in sequence.\n",
    "new.function <- function(a) {\n",
    "   for(i in 1:a) {\n",
    "      b <- i^2\n",
    "      print(b)\n",
    "   }\n",
    "}\n",
    "\n",
    "# Call the function new.function supplying 6 as an argument.\n",
    "new.function(6)"
   ]
  },
  {
   "cell_type": "code",
   "execution_count": 22,
   "id": "e36ba7fa",
   "metadata": {},
   "outputs": [
    {
     "name": "stdout",
     "output_type": "stream",
     "text": [
      "[1] \"Hello How are you? \"\n"
     ]
    }
   ],
   "source": [
    "# string manipulation\n",
    "a <- \"Hello\"\n",
    "b <- 'How'\n",
    "c <- \"are you? \"\n",
    "\n",
    "print(paste(a,b,c))"
   ]
  },
  {
   "cell_type": "code",
   "execution_count": 23,
   "id": "4d510bf0",
   "metadata": {},
   "outputs": [
    {
     "name": "stdout",
     "output_type": "stream",
     "text": [
      "[1] 30\n"
     ]
    }
   ],
   "source": [
    "result <- nchar(\"Count the number of characters\")\n",
    "print(result)"
   ]
  },
  {
   "cell_type": "code",
   "execution_count": 24,
   "id": "2cd0b4f6",
   "metadata": {},
   "outputs": [
    {
     "name": "stdout",
     "output_type": "stream",
     "text": [
      "[1] \"CHANGING TO UPPER\"\n",
      "[1] \"changing to lower\"\n"
     ]
    }
   ],
   "source": [
    "# Changing to Upper case.\n",
    "result <- toupper(\"Changing To Upper\")\n",
    "print(result)\n",
    "\n",
    "# Changing to lower case.\n",
    "result <- tolower(\"Changing To Lower\")\n",
    "print(result)"
   ]
  },
  {
   "cell_type": "code",
   "execution_count": 25,
   "id": "027a197a",
   "metadata": {},
   "outputs": [
    {
     "name": "stdout",
     "output_type": "stream",
     "text": [
      "[1] 1\n",
      "[1] 2\n",
      "[1] 3\n",
      "[1] 4\n",
      "[1] 5\n",
      "[1] 6\n"
     ]
    }
   ],
   "source": [
    "probability <- c(1, 2, 3, 4, 5, 6) \n",
    "\n",
    "for (x in probability) {\n",
    "  print(x)\n",
    "}"
   ]
  },
  {
   "cell_type": "code",
   "execution_count": null,
   "id": "74b1b510",
   "metadata": {},
   "outputs": [],
   "source": []
  }
 ],
 "metadata": {
  "kernelspec": {
   "display_name": "R",
   "language": "R",
   "name": "ir"
  },
  "language_info": {
   "codemirror_mode": "r",
   "file_extension": ".r",
   "mimetype": "text/x-r-source",
   "name": "R",
   "pygments_lexer": "r",
   "version": "3.6.1"
  }
 },
 "nbformat": 4,
 "nbformat_minor": 5
}
